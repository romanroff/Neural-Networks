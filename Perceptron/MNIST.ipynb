{
 "cells": [
  {
   "cell_type": "code",
   "execution_count": 15,
   "metadata": {},
   "outputs": [],
   "source": [
    "import torch\n",
    "from torch import nn, optim\n",
    "from torchvision import datasets\n",
    "from torchvision.transforms import v2"
   ]
  },
  {
   "cell_type": "code",
   "execution_count": 39,
   "metadata": {},
   "outputs": [],
   "source": [
    "# transform = v2.Compose(\n",
    "#     [\n",
    "#         v2.ToTensor(),\n",
    "#         v2.Normalize((0.5,), (0.5,))\n",
    "#     ]\n",
    "# )\n",
    "\n",
    "transforms = v2.Compose([\n",
    "    # v2.RandomResizedCrop(size=(28, 28), antialias=True),\n",
    "    # v2.RandomHorizontalFlip(p=0.5),\n",
    "    v2.ToImage(),  # Преобразование в изображение\n",
    "    v2.ToDtype(torch.float32, scale=True),  # Преобразование в тензор с масштабированием\n",
    "    v2.Normalize((0.5,), (0.5,))\n",
    "])\n",
    "mnist = datasets.MNIST(root='./data', train=True, download=True, transform=transforms)\n",
    "mnist_testset = datasets.MNIST(root='./data', train=False, download=True, transform=transforms)"
   ]
  },
  {
   "cell_type": "code",
   "execution_count": 40,
   "metadata": {},
   "outputs": [],
   "source": [
    "train_loader = torch.utils.data.DataLoader(mnist, batch_size=1000, shuffle=True)\n",
    "test_loader = torch.utils.data.DataLoader(mnist_testset, batch_size=1000, shuffle=False)"
   ]
  },
  {
   "cell_type": "code",
   "execution_count": 45,
   "metadata": {},
   "outputs": [],
   "source": [
    "class MNISTClassification(nn.Module):\n",
    "    def __init__(self):\n",
    "        super(MNISTClassification, self).__init__()\n",
    "        self.linear = nn.Linear(28*28, 10)\n",
    "    \n",
    "    def forward(self, image):\n",
    "        out = image.view(-1, 28*28)\n",
    "        out = self.linear(out)\n",
    "        return out\n",
    "    \n",
    "mnist_model = MNISTClassification()\n",
    "criterion = nn.CrossEntropyLoss()\n",
    "optimizer  = optim.SGD(mnist_model.parameters(), lr=0.05)"
   ]
  },
  {
   "cell_type": "code",
   "execution_count": 46,
   "metadata": {},
   "outputs": [
    {
     "name": "stderr",
     "output_type": "stream",
     "text": [
      "Epoch [ 1/20]: 100%|██████████| 60/60 [00:29<00:00,  2.05it/s, mnist loss=0.6243]\n",
      "Epoch [ 2/20]: 100%|██████████| 60/60 [00:29<00:00,  2.04it/s, mnist loss=0.4723]\n",
      "Epoch [ 3/20]: 100%|██████████| 60/60 [00:24<00:00,  2.44it/s, mnist loss=0.4490]\n",
      "Epoch [ 4/20]: 100%|██████████| 60/60 [00:24<00:00,  2.49it/s, mnist loss=0.4255]\n",
      "Epoch [ 5/20]: 100%|██████████| 60/60 [00:24<00:00,  2.47it/s, mnist loss=0.3591]\n",
      "Epoch [ 6/20]: 100%|██████████| 60/60 [00:24<00:00,  2.48it/s, mnist loss=0.3475]\n",
      "Epoch [ 7/20]: 100%|██████████| 60/60 [00:24<00:00,  2.49it/s, mnist loss=0.3571]\n",
      "Epoch [ 8/20]: 100%|██████████| 60/60 [00:23<00:00,  2.50it/s, mnist loss=0.3098]\n",
      "Epoch [ 9/20]: 100%|██████████| 60/60 [00:23<00:00,  2.50it/s, mnist loss=0.3500]\n",
      "Epoch [10/20]: 100%|██████████| 60/60 [00:23<00:00,  2.52it/s, mnist loss=0.3420]\n",
      "Epoch [11/20]: 100%|██████████| 60/60 [00:23<00:00,  2.54it/s, mnist loss=0.3232]\n",
      "Epoch [12/20]: 100%|██████████| 60/60 [00:23<00:00,  2.51it/s, mnist loss=0.3687]\n",
      "Epoch [13/20]: 100%|██████████| 60/60 [00:24<00:00,  2.48it/s, mnist loss=0.3807]\n",
      "Epoch [14/20]: 100%|██████████| 60/60 [00:24<00:00,  2.49it/s, mnist loss=0.2911]\n",
      "Epoch [15/20]: 100%|██████████| 60/60 [00:24<00:00,  2.46it/s, mnist loss=0.3323]\n",
      "Epoch [16/20]: 100%|██████████| 60/60 [00:24<00:00,  2.45it/s, mnist loss=0.3342]\n",
      "Epoch [17/20]: 100%|██████████| 60/60 [00:24<00:00,  2.46it/s, mnist loss=0.3160]\n",
      "Epoch [18/20]: 100%|██████████| 60/60 [00:24<00:00,  2.44it/s, mnist loss=0.2936]\n",
      "Epoch [19/20]: 100%|██████████| 60/60 [00:24<00:00,  2.49it/s, mnist loss=0.3319]\n",
      "Epoch [20/20]: 100%|██████████| 60/60 [00:24<00:00,  2.48it/s, mnist loss=0.2716]\n"
     ]
    },
    {
     "name": "stdout",
     "output_type": "stream",
     "text": [
      "Accuracy of the model on the test images: 91.63%\n"
     ]
    }
   ],
   "source": [
    "from tqdm import tqdm\n",
    "\n",
    "num_epochs = 20\n",
    "for epoch in range(num_epochs):\n",
    "    mnist_model.train()\n",
    "    with tqdm(total=len(train_loader), desc=f'Epoch [{epoch+1:>2}/{num_epochs}]') as pbar:\n",
    "        for images, labels in train_loader:\n",
    "            optimizer.zero_grad()\n",
    "            outputs = mnist_model(images)\n",
    "            loss = criterion(outputs, labels)\n",
    "            loss.backward()\n",
    "            optimizer.step()\n",
    "            \n",
    "            pbar.set_postfix({'mnist loss': f'{loss.item():.4f}'})\n",
    "            pbar.update(1)\n",
    "\n",
    "mnist_model.eval()\n",
    "correct = 0\n",
    "total = 0\n",
    "with torch.no_grad():\n",
    "    for images, labels in test_loader:\n",
    "        outputs = mnist_model(images)\n",
    "        _, predicted = torch.max(outputs.data, 1)\n",
    "        total += labels.size(0)\n",
    "        correct += (predicted == labels).sum().item()\n",
    "print(f'Accuracy of the model on the test images: {100 * correct / total:.2f}%')"
   ]
  }
 ],
 "metadata": {
  "kernelspec": {
   "display_name": ".venv",
   "language": "python",
   "name": "python3"
  },
  "language_info": {
   "codemirror_mode": {
    "name": "ipython",
    "version": 3
   },
   "file_extension": ".py",
   "mimetype": "text/x-python",
   "name": "python",
   "nbconvert_exporter": "python",
   "pygments_lexer": "ipython3",
   "version": "3.12.3"
  }
 },
 "nbformat": 4,
 "nbformat_minor": 2
}
