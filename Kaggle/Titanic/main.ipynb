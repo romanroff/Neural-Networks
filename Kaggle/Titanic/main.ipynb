{
 "cells": [
  {
   "cell_type": "code",
   "execution_count": 102,
   "metadata": {},
   "outputs": [],
   "source": [
    "import pandas as pd\n",
    "import numpy as np\n",
    "import warnings\n",
    "warnings.simplefilter(\"ignore\")\n",
    "\n",
    "from sklearn.model_selection import train_test_split\n",
    "from sklearn.preprocessing import StandardScaler\n",
    "from sklearn.metrics import accuracy_score"
   ]
  },
  {
   "cell_type": "code",
   "execution_count": 91,
   "metadata": {},
   "outputs": [],
   "source": [
    "train_df = pd.read_csv('data/train.csv')\n",
    "test_df = pd.read_csv('data/test.csv')\n",
    "\n",
    "X_train, X_test, y_train, y_test = train_test_split(train_df.drop(columns=['Survived']), train_df['Survived'], test_size=0.2, random_state=42)"
   ]
  },
  {
   "cell_type": "code",
   "execution_count": 92,
   "metadata": {},
   "outputs": [],
   "source": [
    "X_train = X_train.drop(columns=['PassengerId', 'Ticket', 'Cabin', 'Embarked'])\n",
    "X_test = X_test.drop(columns=['PassengerId', 'Ticket', 'Cabin', 'Embarked'])\n",
    "\n",
    "X_train['Name'] = X_train['Name'].apply(lambda x: x.split(', ')[1].split('.')[0])\n",
    "X_test['Name'] = X_test['Name'].apply(lambda x: x.split(', ')[1].split('.')[0])"
   ]
  },
  {
   "cell_type": "code",
   "execution_count": 93,
   "metadata": {},
   "outputs": [
    {
     "data": {
      "text/html": [
       "<div>\n",
       "<style scoped>\n",
       "    .dataframe tbody tr th:only-of-type {\n",
       "        vertical-align: middle;\n",
       "    }\n",
       "\n",
       "    .dataframe tbody tr th {\n",
       "        vertical-align: top;\n",
       "    }\n",
       "\n",
       "    .dataframe thead th {\n",
       "        text-align: right;\n",
       "    }\n",
       "</style>\n",
       "<table border=\"1\" class=\"dataframe\">\n",
       "  <thead>\n",
       "    <tr style=\"text-align: right;\">\n",
       "      <th></th>\n",
       "      <th>Pclass</th>\n",
       "      <th>Age</th>\n",
       "      <th>Category</th>\n",
       "    </tr>\n",
       "  </thead>\n",
       "  <tbody>\n",
       "    <tr>\n",
       "      <th>331</th>\n",
       "      <td>1</td>\n",
       "      <td>45.500000</td>\n",
       "      <td>0</td>\n",
       "    </tr>\n",
       "    <tr>\n",
       "      <th>733</th>\n",
       "      <td>2</td>\n",
       "      <td>23.000000</td>\n",
       "      <td>0</td>\n",
       "    </tr>\n",
       "    <tr>\n",
       "      <th>382</th>\n",
       "      <td>3</td>\n",
       "      <td>32.000000</td>\n",
       "      <td>0</td>\n",
       "    </tr>\n",
       "    <tr>\n",
       "      <th>704</th>\n",
       "      <td>3</td>\n",
       "      <td>26.000000</td>\n",
       "      <td>0</td>\n",
       "    </tr>\n",
       "    <tr>\n",
       "      <th>813</th>\n",
       "      <td>3</td>\n",
       "      <td>6.000000</td>\n",
       "      <td>2</td>\n",
       "    </tr>\n",
       "    <tr>\n",
       "      <th>...</th>\n",
       "      <td>...</td>\n",
       "      <td>...</td>\n",
       "      <td>...</td>\n",
       "    </tr>\n",
       "    <tr>\n",
       "      <th>106</th>\n",
       "      <td>3</td>\n",
       "      <td>21.000000</td>\n",
       "      <td>1</td>\n",
       "    </tr>\n",
       "    <tr>\n",
       "      <th>270</th>\n",
       "      <td>1</td>\n",
       "      <td>33.864353</td>\n",
       "      <td>0</td>\n",
       "    </tr>\n",
       "    <tr>\n",
       "      <th>860</th>\n",
       "      <td>3</td>\n",
       "      <td>41.000000</td>\n",
       "      <td>0</td>\n",
       "    </tr>\n",
       "    <tr>\n",
       "      <th>435</th>\n",
       "      <td>1</td>\n",
       "      <td>14.000000</td>\n",
       "      <td>2</td>\n",
       "    </tr>\n",
       "    <tr>\n",
       "      <th>102</th>\n",
       "      <td>1</td>\n",
       "      <td>21.000000</td>\n",
       "      <td>0</td>\n",
       "    </tr>\n",
       "  </tbody>\n",
       "</table>\n",
       "<p>712 rows × 3 columns</p>\n",
       "</div>"
      ],
      "text/plain": [
       "     Pclass        Age  Category\n",
       "331       1  45.500000         0\n",
       "733       2  23.000000         0\n",
       "382       3  32.000000         0\n",
       "704       3  26.000000         0\n",
       "813       3   6.000000         2\n",
       "..      ...        ...       ...\n",
       "106       3  21.000000         1\n",
       "270       1  33.864353         0\n",
       "860       3  41.000000         0\n",
       "435       1  14.000000         2\n",
       "102       1  21.000000         0\n",
       "\n",
       "[712 rows x 3 columns]"
      ]
     },
     "execution_count": 93,
     "metadata": {},
     "output_type": "execute_result"
    }
   ],
   "source": [
    "def categorize_titles(row):\n",
    "    if pd.notna(row['Age']) and row['Age'] < 18:\n",
    "        return 2\n",
    "    match row['Name']:\n",
    "        case 'Mr' | 'Don' | 'Rev' | 'Dr' | 'Major' | 'Sir' | 'Col' | 'Capt' | 'Jonkheer':\n",
    "            return 0\n",
    "        case 'Mrs' | 'Miss' | 'Mme' | 'Ms' | 'Lady' | 'Mlle' | 'the Countess' | 'Dona':\n",
    "            return 1\n",
    "        case 'Master':\n",
    "            return 2\n",
    "        case _:\n",
    "            return None\n",
    "\n",
    "\n",
    "X_train['Category'] = X_train.apply(categorize_titles, axis=1)\n",
    "X_test['Category'] = X_test.apply(categorize_titles, axis=1)\n",
    "\n",
    "mean_ages_train = X_train.groupby('Category')['Age'].mean()\n",
    "mean_ages_test = X_test.groupby('Category')['Age'].mean()\n",
    "\n",
    "# Функция для замены пропущенных значений возраста\n",
    "def fill_missing_age(row, mean_ages):\n",
    "    if pd.isna(row['Age']):\n",
    "        return mean_ages[row['Category']]\n",
    "    return row['Age']\n",
    "\n",
    "# Применяем функцию для заполнения пропущенных значений возраста\n",
    "X_train['Age'] = X_train.apply(lambda x: fill_missing_age(x, mean_ages_train), axis=1)\n",
    "X_test['Age'] = X_test.apply(lambda x: fill_missing_age(x, mean_ages_test), axis=1)\n",
    "\n",
    "X_train = X_train.drop(columns=['Name', 'Sex', 'SibSp', 'Parch', 'Fare'])\n",
    "X_test = X_test.drop(columns=['Name', 'Sex', 'SibSp', 'Parch', 'Fare'])\n",
    "X_train"
   ]
  },
  {
   "cell_type": "code",
   "execution_count": 94,
   "metadata": {},
   "outputs": [],
   "source": [
    "scaler = StandardScaler()\n",
    "X_train = scaler.fit_transform(X_train)\n",
    "X_test = scaler.transform(X_test)"
   ]
  },
  {
   "cell_type": "code",
   "execution_count": 104,
   "metadata": {},
   "outputs": [
    {
     "name": "stdout",
     "output_type": "stream",
     "text": [
      "Accuracy (Logistic Regression): 0.77\n"
     ]
    }
   ],
   "source": [
    "# Создаем и обучаем модель\n",
    "logreg = LogisticRegression(C=0.01, l1_ratio=0.5, max_iter=100, penalty='l2', solver='liblinear')\n",
    "logreg.fit(X_train, y_train)\n",
    "\n",
    "# Предсказываем и оцениваем модель\n",
    "y_pred_logreg = logreg.predict(X_test)\n",
    "print(f'Accuracy (Logistic Regression): {accuracy_score(y_test, y_pred_logreg):.2f}')"
   ]
  },
  {
   "cell_type": "code",
   "execution_count": 106,
   "metadata": {},
   "outputs": [
    {
     "name": "stdout",
     "output_type": "stream",
     "text": [
      "Accuracy (Decision Tree): 0.80\n"
     ]
    }
   ],
   "source": [
    "# Создаем и обучаем модель\n",
    "tree = DecisionTreeClassifier(criterion='entropy', max_depth=50, max_features='log2', min_samples_leaf=4, min_samples_split=10, splitter='best')\n",
    "tree.fit(X_train, y_train)\n",
    "\n",
    "# Предсказываем и оцениваем модель\n",
    "y_pred_tree = tree.predict(X_test)\n",
    "print(f'Accuracy (Decision Tree): {accuracy_score(y_test, y_pred_tree):.2f}')"
   ]
  },
  {
   "cell_type": "code",
   "execution_count": 97,
   "metadata": {},
   "outputs": [
    {
     "name": "stdout",
     "output_type": "stream",
     "text": [
      "Accuracy (Random Forest): 0.78\n"
     ]
    }
   ],
   "source": [
    "# Создаем и обучаем модель\n",
    "forest = RandomForestClassifier(n_estimators=, criterion='', max_depth=, min_samples_split=, min_samples_leaf=, max_features='', bootstrap=)\n",
    "forest.fit(X_train, y_train)\n",
    "\n",
    "# Предсказываем и оцениваем модель\n",
    "y_pred_forest = forest.predict(X_test)\n",
    "print(f'Accuracy (Random Forest): {accuracy_score(y_test, y_pred_forest):.2f}')"
   ]
  }
 ],
 "metadata": {
  "kernelspec": {
   "display_name": ".venv",
   "language": "python",
   "name": "python3"
  },
  "language_info": {
   "codemirror_mode": {
    "name": "ipython",
    "version": 3
   },
   "file_extension": ".py",
   "mimetype": "text/x-python",
   "name": "python",
   "nbconvert_exporter": "python",
   "pygments_lexer": "ipython3",
   "version": "3.12.3"
  }
 },
 "nbformat": 4,
 "nbformat_minor": 2
}
